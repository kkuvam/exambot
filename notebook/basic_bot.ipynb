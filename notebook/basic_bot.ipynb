{
 "cells": [
  {
   "cell_type": "code",
   "execution_count": null,
   "id": "be2a7164-6e1d-4966-88f7-0c6459de7a44",
   "metadata": {},
   "outputs": [],
   "source": [
    "#!pip install chromadb sentence-transformers openai"
   ]
  },
  {
   "cell_type": "code",
   "execution_count": 1,
   "id": "d5c79426-dfe6-45a3-b3ba-a58ce1662d27",
   "metadata": {},
   "outputs": [],
   "source": [
    "import os\n",
    "import chromadb\n",
    "from chromadb import PersistentClient\n",
    "from sentence_transformers import SentenceTransformer\n",
    "import openai\n",
    "import ollama\n",
    "import requests"
   ]
  },
  {
   "cell_type": "code",
   "execution_count": 2,
   "id": "96a21a98-97e0-4d2a-a75b-c864a3111f6e",
   "metadata": {},
   "outputs": [],
   "source": [
    "# Chroma Config\n",
    "persist_path = \"chroma_db\"\n",
    "collection_name = \"class10_english\""
   ]
  },
  {
   "cell_type": "code",
   "execution_count": 3,
   "id": "20a2c0d2-31d7-4061-8a60-d8bcd4b8de71",
   "metadata": {},
   "outputs": [],
   "source": [
    "# Embedding model\n",
    "MODEL_NAME = \"all-MiniLM-L6-v2\"\n",
    "model = SentenceTransformer(MODEL_NAME)"
   ]
  },
  {
   "cell_type": "code",
   "execution_count": 4,
   "id": "c2f978df-d038-4fad-8034-0a42edaab834",
   "metadata": {},
   "outputs": [],
   "source": [
    "# LLM Config\n",
    "USE_OPENAI = False  # Set False to use Ollama\n",
    "OPENAI_MODEL = \"gpt-3.5-turbo\"\n",
    "OLLAMA_MODEL = \"llama3.1\"\n",
    "openai.api_key = os.getenv(\"OPENAI_API_KEY\")"
   ]
  },
  {
   "cell_type": "code",
   "execution_count": 5,
   "id": "22ee137f-9f55-499a-82e2-3751bcad4c43",
   "metadata": {},
   "outputs": [],
   "source": [
    "# Chroma client (🔁 using PersistentClient)\n",
    "client = PersistentClient(path=persist_path)\n",
    "collection = client.get_or_create_collection(collection_name)"
   ]
  },
  {
   "cell_type": "code",
   "execution_count": 6,
   "id": "4602fec0-9cfd-4247-a5e6-29fb776a396a",
   "metadata": {},
   "outputs": [],
   "source": [
    "def retrieve_chunks(query, top_k=3):\n",
    "    embedding = model.encode([query])[0].tolist()\n",
    "    results = collection.query(query_embeddings=[embedding], n_results=top_k)\n",
    "    return results[\"documents\"][0] if results[\"documents\"] else []\n"
   ]
  },
  {
   "cell_type": "code",
   "execution_count": 7,
   "id": "3892a0de-b5c3-4edf-b7c3-9abc08bc4ca6",
   "metadata": {},
   "outputs": [],
   "source": [
    "def ask_openai(context, query):\n",
    "    response = openai.ChatCompletion.create(\n",
    "        model=OPENAI_MODEL,\n",
    "        messages=[\n",
    "            {\"role\": \"system\", \"content\": \"You are a helpful study tutor.\"},\n",
    "            {\"role\": \"user\", \"content\": f\"Context:\\n{context}\\n\\nQuestion:\\n{query}\"}\n",
    "        ]\n",
    "    )\n",
    "    return response['choices'][0]['message']['content']"
   ]
  },
  {
   "cell_type": "code",
   "execution_count": 12,
   "id": "51164320-1d36-4ec3-811f-3ae4933d9988",
   "metadata": {},
   "outputs": [],
   "source": [
    "def ask_ollama(context, query):\n",
    "    prompt = f\"Context:\\n{context}\\n\\nQuestion: {query}\\n\\nAnswer:\"\n",
    "    response = requests.post(\"http://localhost:11434/api/generate\", json={\n",
    "        \"model\": OLLAMA_MODEL,\n",
    "        \"prompt\": prompt,\n",
    "        \"system\": \"You are a teacher and evaluator of class10_english\",\n",
    "        \"stream\": False\n",
    "    })\n",
    "    return response.json()[\"response\"]"
   ]
  },
  {
   "cell_type": "code",
   "execution_count": 13,
   "id": "4ba3e7f8-3d40-4152-b3cf-6d264586c122",
   "metadata": {},
   "outputs": [],
   "source": [
    "def embed_text(text):\n",
    "    return model.encode([text])[0].tolist()"
   ]
  },
  {
   "cell_type": "code",
   "execution_count": 14,
   "id": "7bb750f5-1f5d-484e-92ff-645b4145e5fb",
   "metadata": {},
   "outputs": [
    {
     "name": "stdout",
     "output_type": "stream",
     "text": [
      "🧠 Q: Teach me one of the poem from the book.\n",
      "💬 A: Let's take a look at one of the poems in the CBSE Class 10 English textbook. How about we start with \"The Lake Isle of Innisfree\" by W.B. Yeats?\n",
      "\n",
      "This poem is actually an excerpt from his collection \"New Poems\" (1903) and is a beautiful expression of longing for a peaceful life.\n",
      "\n",
      "Here's the poem:\n",
      "\n",
      "\"The Lake Isle of Innisfree\"\n",
      "\n",
      "I will arise and go now, and go to Innisfree,\n",
      "And a small cabin build there, of clay and wattles made;\n",
      "Nine bean-rows will I have there, a hive for the honey-bee,\n",
      "And live alone in the bee-loud glade.\n",
      "\n",
      "And I shall have some peace there, for peace comes dropping slow,\n",
      "Dropping from the veils of the morning to where the cricket sings;\n",
      "There midnight mass is held, and the bells are ringing\n",
      "Out to where the lake waters wander from the evening till morning...\n",
      "\n",
      "Let's break it down line by line and understand its meaning.\n",
      "\n",
      "How would you like me to explain this poem? Would you like a summary, an analysis of its themes or something else?\n"
     ]
    }
   ],
   "source": [
    "query = \"Teach me one of the poem from the book.\"\n",
    "chunks = retrieve_chunks(query)\n",
    "context = \"\\n\\n---\\n\\n\".join(chunks) if chunks else \"\"\n",
    "\n",
    "# Get answer from LLM\n",
    "answer = ask_openai(context, query) if USE_OPENAI else ask_ollama(context, query)\n",
    "print(\"🧠 Q:\", query)\n",
    "print(\"💬 A:\", answer)"
   ]
  },
  {
   "cell_type": "code",
   "execution_count": null,
   "id": "e36b4435-dbca-47d2-8769-842893d7ef1f",
   "metadata": {},
   "outputs": [],
   "source": []
  }
 ],
 "metadata": {
  "kernelspec": {
   "display_name": "Python 3 (ipykernel)",
   "language": "python",
   "name": "python3"
  },
  "language_info": {
   "codemirror_mode": {
    "name": "ipython",
    "version": 3
   },
   "file_extension": ".py",
   "mimetype": "text/x-python",
   "name": "python",
   "nbconvert_exporter": "python",
   "pygments_lexer": "ipython3",
   "version": "3.10.18"
  }
 },
 "nbformat": 4,
 "nbformat_minor": 5
}
