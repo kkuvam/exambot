{
 "cells": [
  {
   "cell_type": "code",
   "execution_count": 1,
   "id": "d890f34d-4b68-4d8f-aa48-10566172e88e",
   "metadata": {},
   "outputs": [],
   "source": [
    "#!pip install chromadb sentence-transformers langchain"
   ]
  },
  {
   "cell_type": "code",
   "execution_count": 1,
   "id": "96d8bb64-cd5b-4d12-9dc3-79850c998654",
   "metadata": {},
   "outputs": [],
   "source": [
    "import os\n",
    "from pathlib import Path\n",
    "from chromadb import PersistentClient\n",
    "from chromadb.utils.embedding_functions import SentenceTransformerEmbeddingFunction\n",
    "from langchain.text_splitter import RecursiveCharacterTextSplitter\n"
   ]
  },
  {
   "cell_type": "code",
   "execution_count": 2,
   "id": "af7103b8-4a51-472e-ba66-f2d64d15ce12",
   "metadata": {},
   "outputs": [],
   "source": [
    "markdown_path = \"../books/10/english/jeff101.md\"\n",
    "filename = os.path.basename(markdown_path)\n",
    "chroma_path = \"../chroma_db\"\n",
    "collection_name = \"class10_english\"\n",
    "chunk_size = 500\n",
    "chunk_overlap = 50\n",
    "embedding_model_name = \"all-MiniLM-L6-v2\""
   ]
  },
  {
   "cell_type": "code",
   "execution_count": 3,
   "id": "7d354bf6-d1c6-4f32-a220-ca63ac495497",
   "metadata": {},
   "outputs": [],
   "source": [
    "with open(markdown_path, \"r\", encoding=\"utf-8\") as f:\n",
    "    text = f.read()"
   ]
  },
  {
   "cell_type": "code",
   "execution_count": 4,
   "id": "006e7647-dde8-4c6a-9731-a7ccead32055",
   "metadata": {},
   "outputs": [
    {
     "name": "stdout",
     "output_type": "stream",
     "text": [
      "67 chunks created.\n"
     ]
    }
   ],
   "source": [
    "text_splitter = RecursiveCharacterTextSplitter(chunk_size=chunk_size, chunk_overlap=chunk_overlap)\n",
    "chunks = text_splitter.split_text(text)\n",
    "print(f\"{len(chunks)} chunks created.\")"
   ]
  },
  {
   "cell_type": "code",
   "execution_count": 5,
   "id": "9ef39cdf-d041-400c-9661-d31e09506828",
   "metadata": {},
   "outputs": [],
   "source": [
    "embedding_function = SentenceTransformerEmbeddingFunction(model_name=embedding_model_name)"
   ]
  },
  {
   "cell_type": "code",
   "execution_count": 6,
   "id": "b651c366-f4f8-4eea-8bae-b8b82995bb38",
   "metadata": {},
   "outputs": [],
   "source": [
    "client = PersistentClient(path=chroma_path)\n",
    "\n",
    "collection = client.get_or_create_collection(\n",
    "    name=collection_name,\n",
    "    embedding_function=embedding_function\n",
    ")\n"
   ]
  },
  {
   "cell_type": "code",
   "execution_count": 9,
   "id": "c5eeb9bb-46e5-4adc-877e-744d8f3a365a",
   "metadata": {},
   "outputs": [
    {
     "name": "stdout",
     "output_type": "stream",
     "text": [
      "[{'source': 'jeff101.md', 'chunk': 0}, {'source': 'jeff101.md', 'chunk': 1}, {'source': 'jeff101.md', 'chunk': 2}, {'source': 'jeff101.md', 'chunk': 3}, {'source': 'jeff101.md', 'chunk': 4}, {'source': 'jeff101.md', 'chunk': 5}, {'source': 'jeff101.md', 'chunk': 6}, {'source': 'jeff101.md', 'chunk': 7}, {'source': 'jeff101.md', 'chunk': 8}, {'source': 'jeff101.md', 'chunk': 9}, {'source': 'jeff101.md', 'chunk': 10}, {'source': 'jeff101.md', 'chunk': 11}, {'source': 'jeff101.md', 'chunk': 12}, {'source': 'jeff101.md', 'chunk': 13}, {'source': 'jeff101.md', 'chunk': 14}, {'source': 'jeff101.md', 'chunk': 15}, {'source': 'jeff101.md', 'chunk': 16}, {'source': 'jeff101.md', 'chunk': 17}, {'source': 'jeff101.md', 'chunk': 18}, {'source': 'jeff101.md', 'chunk': 19}, {'source': 'jeff101.md', 'chunk': 20}, {'source': 'jeff101.md', 'chunk': 21}, {'source': 'jeff101.md', 'chunk': 22}, {'source': 'jeff101.md', 'chunk': 23}, {'source': 'jeff101.md', 'chunk': 24}, {'source': 'jeff101.md', 'chunk': 25}, {'source': 'jeff101.md', 'chunk': 26}, {'source': 'jeff101.md', 'chunk': 27}, {'source': 'jeff101.md', 'chunk': 28}, {'source': 'jeff101.md', 'chunk': 29}, {'source': 'jeff101.md', 'chunk': 30}, {'source': 'jeff101.md', 'chunk': 31}, {'source': 'jeff101.md', 'chunk': 32}, {'source': 'jeff101.md', 'chunk': 33}, {'source': 'jeff101.md', 'chunk': 34}, {'source': 'jeff101.md', 'chunk': 35}, {'source': 'jeff101.md', 'chunk': 36}, {'source': 'jeff101.md', 'chunk': 37}, {'source': 'jeff101.md', 'chunk': 38}, {'source': 'jeff101.md', 'chunk': 39}, {'source': 'jeff101.md', 'chunk': 40}, {'source': 'jeff101.md', 'chunk': 41}, {'source': 'jeff101.md', 'chunk': 42}, {'source': 'jeff101.md', 'chunk': 43}, {'source': 'jeff101.md', 'chunk': 44}, {'source': 'jeff101.md', 'chunk': 45}, {'source': 'jeff101.md', 'chunk': 46}, {'source': 'jeff101.md', 'chunk': 47}, {'source': 'jeff101.md', 'chunk': 48}, {'source': 'jeff101.md', 'chunk': 49}, {'source': 'jeff101.md', 'chunk': 50}, {'source': 'jeff101.md', 'chunk': 51}, {'source': 'jeff101.md', 'chunk': 52}, {'source': 'jeff101.md', 'chunk': 53}, {'source': 'jeff101.md', 'chunk': 54}, {'source': 'jeff101.md', 'chunk': 55}, {'source': 'jeff101.md', 'chunk': 56}, {'source': 'jeff101.md', 'chunk': 57}, {'source': 'jeff101.md', 'chunk': 58}, {'source': 'jeff101.md', 'chunk': 59}, {'source': 'jeff101.md', 'chunk': 60}, {'source': 'jeff101.md', 'chunk': 61}, {'source': 'jeff101.md', 'chunk': 62}, {'source': 'jeff101.md', 'chunk': 63}, {'source': 'jeff101.md', 'chunk': 64}, {'source': 'jeff101.md', 'chunk': 65}, {'source': 'jeff101.md', 'chunk': 66}]\n"
     ]
    }
   ],
   "source": [
    "chunks = []\n",
    "metadatas = []\n",
    "for i, chunk in enumerate(text_splitter.split_text(text)):\n",
    "    chunks.append(chunk)\n",
    "    metadatas.append({\"source\": filename, \"chunk\": i})\n",
    "print(metadatas)"
   ]
  },
  {
   "cell_type": "code",
   "execution_count": 8,
   "id": "433d25f5-e948-4192-9eb2-0bee919ae4fe",
   "metadata": {},
   "outputs": [
    {
     "name": "stderr",
     "output_type": "stream",
     "text": [
      "/Users/m/Sites/venv/lib/python3.10/site-packages/torch/nn/modules/module.py:1762: FutureWarning: `encoder_attention_mask` is deprecated and will be removed in version 4.55.0 for `BertSdpaSelfAttention.forward`.\n",
      "  return forward_call(*args, **kwargs)\n"
     ]
    }
   ],
   "source": [
    "ids = [f\"doc_{i}\" for i in range(len(chunks))]\n",
    "collection.add(documents=chunks, metadatas=metadatas, ids=ids)"
   ]
  },
  {
   "cell_type": "code",
   "execution_count": null,
   "id": "2185311a-16d0-4658-a55c-7275d56082fd",
   "metadata": {},
   "outputs": [],
   "source": []
  }
 ],
 "metadata": {
  "kernelspec": {
   "display_name": "Python 3 (ipykernel)",
   "language": "python",
   "name": "python3"
  },
  "language_info": {
   "codemirror_mode": {
    "name": "ipython",
    "version": 3
   },
   "file_extension": ".py",
   "mimetype": "text/x-python",
   "name": "python",
   "nbconvert_exporter": "python",
   "pygments_lexer": "ipython3",
   "version": "3.10.18"
  }
 },
 "nbformat": 4,
 "nbformat_minor": 5
}
