{
 "cells": [
  {
   "cell_type": "code",
   "execution_count": 4,
   "id": "5207c1a0-2ad9-4ae9-bcee-57b7fda31811",
   "metadata": {},
   "outputs": [],
   "source": [
    "# !pip install pdfplumber"
   ]
  },
  {
   "cell_type": "code",
   "execution_count": 6,
   "id": "4306d313-4e46-44d8-b077-2f201efe89d5",
   "metadata": {},
   "outputs": [],
   "source": [
    "import os\n",
    "import pdfplumber"
   ]
  },
  {
   "cell_type": "code",
   "execution_count": 7,
   "id": "5cb32d9d-edf1-4c13-b52e-2ac490cadf00",
   "metadata": {},
   "outputs": [
    {
     "name": "stdout",
     "output_type": "stream",
     "text": [
      "Markdown saved to ../books/10/english/jeff1ps.md\n"
     ]
    }
   ],
   "source": [
    "# Paths\n",
    "input_pdf_path = \"../data/10/english/jeff1ps.pdf\"\n",
    "output_md_path = \"../books/10/english/jeff1ps.md\"\n",
    "\n",
    "# Step 1: Extract text and tables\n",
    "markdown = \"\"\n",
    "\n",
    "with pdfplumber.open(input_pdf_path) as pdf:\n",
    "    for page_num, page in enumerate(pdf.pages, start=1):\n",
    "        text = page.extract_text()\n",
    "        markdown += text if text else \"\"\n",
    "\n",
    "        # Tables (if any)\n",
    "        tables = page.extract_tables()\n",
    "        for table in tables:\n",
    "            markdown += \"\\n\\n\"\n",
    "            for row in table:\n",
    "                markdown += \"| \" + \" | \".join(cell or \"\" for cell in row) + \" |\\n\"\n",
    "            markdown += \"\\n\"\n",
    "\n",
    "# Step 2: Write to Markdown file\n",
    "with open(output_md_path, \"w\", encoding=\"utf-8\") as f:\n",
    "    f.write(markdown)\n",
    "\n",
    "print(f\"Markdown saved to {output_md_path}\")"
   ]
  },
  {
   "cell_type": "code",
   "execution_count": null,
   "id": "5c49d9f2-0526-487d-8439-1363176b7491",
   "metadata": {},
   "outputs": [],
   "source": []
  }
 ],
 "metadata": {
  "kernelspec": {
   "display_name": "Python 3 (ipykernel)",
   "language": "python",
   "name": "python3"
  },
  "language_info": {
   "codemirror_mode": {
    "name": "ipython",
    "version": 3
   },
   "file_extension": ".py",
   "mimetype": "text/x-python",
   "name": "python",
   "nbconvert_exporter": "python",
   "pygments_lexer": "ipython3",
   "version": "3.10.18"
  }
 },
 "nbformat": 4,
 "nbformat_minor": 5
}
