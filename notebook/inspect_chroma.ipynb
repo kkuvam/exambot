{
 "cells": [
  {
   "cell_type": "code",
   "execution_count": 1,
   "id": "ab439b7b-8129-434f-aea7-6eb26e9f5dea",
   "metadata": {},
   "outputs": [],
   "source": [
    "from chromadb import PersistentClient\n",
    "from sentence_transformers import SentenceTransformer"
   ]
  },
  {
   "cell_type": "code",
   "execution_count": 2,
   "id": "0c7abbd5-8089-44dc-a611-cce0a9393595",
   "metadata": {},
   "outputs": [],
   "source": [
    "# Chroma Config\n",
    "persist_path = \"../chroma_db\"\n",
    "collection_name = \"class10_english\""
   ]
  },
  {
   "cell_type": "code",
   "execution_count": 3,
   "id": "9d2e758d-9aee-4ec7-9cb6-ffe2e9744dc8",
   "metadata": {},
   "outputs": [],
   "source": [
    "client = PersistentClient(path=persist_path)"
   ]
  },
  {
   "cell_type": "code",
   "execution_count": 4,
   "id": "8a11c9d3-27a3-4da8-8278-2a53f579be8c",
   "metadata": {},
   "outputs": [
    {
     "data": {
      "text/plain": [
       "[Collection(name=class10_english)]"
      ]
     },
     "execution_count": 4,
     "metadata": {},
     "output_type": "execute_result"
    }
   ],
   "source": [
    "client.list_collections()\n"
   ]
  },
  {
   "cell_type": "code",
   "execution_count": 6,
   "id": "6114db08-f3bc-4e03-8103-6a8f8f780f49",
   "metadata": {},
   "outputs": [],
   "source": [
    "collection = client.get_collection(collection_name)"
   ]
  },
  {
   "cell_type": "code",
   "execution_count": 7,
   "id": "c52b3b4b-f2d8-46bc-b13e-2230bb29f355",
   "metadata": {},
   "outputs": [
    {
     "data": {
      "text/plain": [
       "117"
      ]
     },
     "execution_count": 7,
     "metadata": {},
     "output_type": "execute_result"
    }
   ],
   "source": [
    "collection.count()"
   ]
  },
  {
   "cell_type": "code",
   "execution_count": 9,
   "id": "3a17ef60-939b-4dd2-ad1a-0a59947a9791",
   "metadata": {},
   "outputs": [
    {
     "data": {
      "text/plain": [
       "{'ids': ['doc_0',\n",
       "  'doc_1',\n",
       "  'doc_2',\n",
       "  'doc_3',\n",
       "  'doc_4',\n",
       "  'doc_5',\n",
       "  'doc_6',\n",
       "  'doc_7',\n",
       "  'doc_8',\n",
       "  'doc_9'],\n",
       " 'embeddings': array([[-0.07665705,  0.03457267,  0.07741611, ...,  0.0366413 ,\n",
       "          0.01206904, -0.07378116],\n",
       "        [-0.12474373,  0.05490077,  0.03272174, ...,  0.01621567,\n",
       "         -0.04269305,  0.01879187],\n",
       "        [-0.02813699,  0.09264768, -0.00433283, ..., -0.04884546,\n",
       "         -0.06789505, -0.03953836],\n",
       "        ...,\n",
       "        [-0.06443428,  0.13536285, -0.00617783, ..., -0.09067757,\n",
       "         -0.05015033, -0.01265914],\n",
       "        [-0.07562924,  0.02099609,  0.04933124, ...,  0.02329633,\n",
       "          0.00198517, -0.06731168],\n",
       "        [-0.06484689,  0.05208937, -0.00896973, ..., -0.11937881,\n",
       "         -0.03935085,  0.02142316]], shape=(10, 384)),\n",
       " 'documents': ['---\\n\\n## Page 1',\n",
       "  \"2\\nThe Thief's Story\\nA young boy makes friends with Anil.\\nAnil trusts him completely and employs\\nhim. Does the boy betray his trust?\\nREAD AND FIND OUT\\n• Who does ‘I’ refer to in this story?\\n• What is he “a fairly successful hand” at?\\n• What does he get from Anil in return for his work?\\nI WAS still a thief when I met Anil. And though only 15, I was an\\nexperienced and fairly successful hand.\\nAnil was watching a wrestling match when I approached him. He\",\n",
       "  'was about 25 — a tall, lean fellow — and he looked easy-going, kind\\nand simple enough for my purpose. I hadn’t had much luck of late and\\nthought I might be able to get into the young man’s confidence.\\n“You look a bit of a wrestler yourself,” I said. A little flattery helps\\nin making friends.\\n“So do you,” he replied, which put me off for a moment because at\\nthat time I was rather thin.\\n“Well,” I said modestly, “I do wrestle a bit.”\\n“What’s your name?”',\n",
       "  '“What’s your name?”\\n“Hari Singh,” I lied. I took a new name every month. That kept me\\nahead of the police and my former employers.\\nAfter this introduction, Anil talked about the well-oiled wrestlers\\nwho were grunting, lifting and throwing each other about. I didn’t\\nhave much to say. Anil walked away. I followed casually.\\n“Hello again,” he said.\\nI gave him my most appealing smile. “I want to work for you,” I said.\\n“But I can’t pay you.”\\nReprint 2025-26',\n",
       "  \"| The Thief's Story |  |  |\\n|  |  |  |\\n|  |  |  |\\n|  | A young boy makes friends with Anil.\\nAnil trusts him completely and employs\\nhim. Does the boy betray his trust? |  |\\n\\n\\n\\n---\\n\\n## Page 2\",\n",
       "  'I thought that over for a minute. Perhaps I had misjudged my man.\\nI asked, “Can you feed me?”\\n“Can you cook?”\\n“I can cook,” I lied again.\\n“If you can cook, then may be I can feed you.”\\nHe took me to his room over the Jumna Sweet Shop and told me I\\ncould sleep on the balcony. But the meal I cooked that night must\\nhave been terrible because Anil gave it to a stray dog and told me to be\\noff. But I just hung around, smiling in my most appealing way, and he\\ncouldn’t help laughing.',\n",
       "  'couldn’t help laughing.\\nLater, he patted me on the head and said never mind, he’d teach\\nme to cook. He also taught me to write my name and said he would\\nsoon teach me to write whole sentences and to add numbers. I was\\ngrateful. I knew that once I could write like an educated man there\\nwould be no limit to what I could achieve.\\nIt was quite pleasant working for Anil. I made the tea in the morning\\nand then would take my time buying the day’s supplies, usually making',\n",
       "  'a profit of about a rupee a day. I think he knew I made a little money\\nthis way but he did not seem to mind.\\nThe Thief’s Story 9\\nReprint 2025-26',\n",
       "  '---\\n\\n## Page 3',\n",
       "  'Anil made money by fits and starts. He would borrow one week, lend\\nthe next. He kept worrying about his next cheque, but as soon as it\\narrived he would go out and celebrate. It seems he wrote for magazines —\\na queer way to make a living!\\nOne evening he came home with a small bundle of notes, saying he\\nhad just sold a book to a publisher. At night, I saw him tuck the money\\nunder the mattress.\\nI had been working for Anil for almost a month and, apart from'],\n",
       " 'uris': None,\n",
       " 'included': ['metadatas', 'documents', 'embeddings'],\n",
       " 'data': None,\n",
       " 'metadatas': [{'chunk': 0, 'source': '../books/10/english/jefp102.md'},\n",
       "  {'source': '../books/10/english/jefp102.md', 'chunk': 1},\n",
       "  {'chunk': 2, 'source': '../books/10/english/jefp102.md'},\n",
       "  {'source': '../books/10/english/jefp102.md', 'chunk': 3},\n",
       "  {'chunk': 4, 'source': '../books/10/english/jefp102.md'},\n",
       "  {'source': '../books/10/english/jefp102.md', 'chunk': 5},\n",
       "  {'source': '../books/10/english/jefp102.md', 'chunk': 6},\n",
       "  {'chunk': 7, 'source': '../books/10/english/jefp102.md'},\n",
       "  {'source': '../books/10/english/jefp102.md', 'chunk': 8},\n",
       "  {'chunk': 9, 'source': '../books/10/english/jefp102.md'}]}"
      ]
     },
     "execution_count": 9,
     "metadata": {},
     "output_type": "execute_result"
    }
   ],
   "source": [
    "collection.peek()"
   ]
  },
  {
   "cell_type": "code",
   "execution_count": null,
   "id": "e74a4991-21e7-49f0-9743-c89e5a072291",
   "metadata": {},
   "outputs": [],
   "source": []
  }
 ],
 "metadata": {
  "kernelspec": {
   "display_name": "Python 3 (ipykernel)",
   "language": "python",
   "name": "python3"
  },
  "language_info": {
   "codemirror_mode": {
    "name": "ipython",
    "version": 3
   },
   "file_extension": ".py",
   "mimetype": "text/x-python",
   "name": "python",
   "nbconvert_exporter": "python",
   "pygments_lexer": "ipython3",
   "version": "3.10.18"
  }
 },
 "nbformat": 4,
 "nbformat_minor": 5
}
